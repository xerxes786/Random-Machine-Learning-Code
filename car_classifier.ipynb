{
  "nbformat": 4,
  "nbformat_minor": 0,
  "metadata": {
    "colab": {
      "name": "car_classifier",
      "provenance": [],
      "collapsed_sections": [],
      "authorship_tag": "ABX9TyPrqQ/wZb+ZEfDp37Woz3ME",
      "include_colab_link": true
    },
    "kernelspec": {
      "name": "python3",
      "display_name": "Python 3"
    },
    "language_info": {
      "name": "python"
    }
  },
  "cells": [
    {
      "cell_type": "markdown",
      "metadata": {
        "id": "view-in-github",
        "colab_type": "text"
      },
      "source": [
        "<a href=\"https://colab.research.google.com/github/xerxes786/Random-Machine-Learning-Code/blob/main/car_classifier.ipynb\" target=\"_parent\"><img src=\"https://colab.research.google.com/assets/colab-badge.svg\" alt=\"Open In Colab\"/></a>"
      ]
    },
    {
      "cell_type": "code",
      "metadata": {
        "colab": {
          "base_uri": "https://localhost:8080/"
        },
        "id": "vpxGMSh3PWHA",
        "outputId": "db76e669-7823-4b61-d71d-27203b5847a4"
      },
      "source": [
        "import numpy as np\n",
        "import pandas as pd\n",
        "data = pd.read_csv('/content/car.data')\n",
        "print(data.head())\n",
        "X = data[['buying', 'maint', 'safety']].values\n",
        "y = data[['class']]\n",
        "X = np.array(X)\n",
        "print(X)"
      ],
      "execution_count": 3,
      "outputs": [
        {
          "output_type": "stream",
          "name": "stdout",
          "text": [
            "      buying maint doors personslug_boot safety  class\n",
            "vhigh  vhigh     2     2           small    low  unacc\n",
            "vhigh  vhigh     2     2           small    med  unacc\n",
            "vhigh  vhigh     2     2           small   high  unacc\n",
            "vhigh  vhigh     2     2             med    low  unacc\n",
            "vhigh  vhigh     2     2             med    med  unacc\n",
            "[['vhigh' '2' 'low']\n",
            " ['vhigh' '2' 'med']\n",
            " ['vhigh' '2' 'high']\n",
            " ...\n",
            " ['low' '5more' 'low']\n",
            " ['low' '5more' 'med']\n",
            " ['low' '5more' 'high']]\n"
          ]
        }
      ]
    },
    {
      "cell_type": "code",
      "metadata": {
        "colab": {
          "base_uri": "https://localhost:8080/"
        },
        "id": "6HeyhVhBQFcI",
        "outputId": "31439868-09d8-4938-abc2-b4e4f11e41d7"
      },
      "source": [
        "from sklearn.preprocessing import LabelEncoder\n",
        "Le = LabelEncoder()\n",
        "for i in range(len(X[0])):\n",
        "    X[:, i] = Le.fit_transform(X[:, i])\n",
        "print(X)"
      ],
      "execution_count": 4,
      "outputs": [
        {
          "output_type": "stream",
          "name": "stdout",
          "text": [
            "[[3 0 1]\n",
            " [3 0 2]\n",
            " [3 0 0]\n",
            " ...\n",
            " [1 3 1]\n",
            " [1 3 2]\n",
            " [1 3 0]]\n"
          ]
        }
      ]
    },
    {
      "cell_type": "code",
      "metadata": {
        "colab": {
          "base_uri": "https://localhost:8080/"
        },
        "id": "-zDmoxCBQLUh",
        "outputId": "1db4e8aa-33bb-4179-ad11-aec3a1fafe73"
      },
      "source": [
        "label_mapping = {\n",
        "    'unacc':0,\n",
        "    'acc':1,\n",
        "    'good':2,\n",
        "    'vgood':3\n",
        "}\n",
        "y['class'] = y['class'].map(label_mapping)\n",
        "y = np.array(y)"
      ],
      "execution_count": 5,
      "outputs": [
        {
          "output_type": "stream",
          "name": "stderr",
          "text": [
            "/usr/local/lib/python3.7/dist-packages/ipykernel_launcher.py:7: SettingWithCopyWarning: \n",
            "A value is trying to be set on a copy of a slice from a DataFrame.\n",
            "Try using .loc[row_indexer,col_indexer] = value instead\n",
            "\n",
            "See the caveats in the documentation: https://pandas.pydata.org/pandas-docs/stable/user_guide/indexing.html#returning-a-view-versus-a-copy\n",
            "  import sys\n"
          ]
        }
      ]
    },
    {
      "cell_type": "code",
      "metadata": {
        "colab": {
          "base_uri": "https://localhost:8080/"
        },
        "id": "3bZZpmttQPdD",
        "outputId": "6e483ea3-b8ba-4717-f853-d0feb18ddb76"
      },
      "source": [
        "from sklearn import neighbors, metrics, svm\n",
        "from sklearn.model_selection import train_test_split\n",
        "knn = svm.SVC()\n",
        "X_train, X_test, y_train, y_test =  train_test_split(X, y, test_size=0.2)\n",
        "knn.fit(X_train, y_train)\n",
        "prediction = knn.predict(X_test)\n",
        "\n",
        "accuracy = metrics.accuracy_score(y_test, prediction)\n",
        "print(\"predictions:\", prediction)\n",
        "print(\"accuracy: \", accuracy)\n",
        "a = 17\n",
        "print(\"actual value \", y[a])\n",
        "print(\"predicted value\", knn.predict(X)[a])"
      ],
      "execution_count": 7,
      "outputs": [
        {
          "output_type": "stream",
          "name": "stdout",
          "text": [
            "predictions: [0 0 0 0 0 0 0 0 0 0 0 0 0 0 0 0 0 0 0 0 0 0 0 0 0 1 0 0 1 0 0 0 1 0 0 0 0\n",
            " 1 1 0 0 0 0 0 0 0 0 0 0 0 0 0 0 0 0 0 0 0 0 0 0 0 1 0 0 0 0 0 0 0 0 0 0 0\n",
            " 0 0 0 0 0 0 0 0 1 0 0 0 0 0 0 0 0 0 0 0 0 0 0 0 0 0 0 0 0 0 0 0 0 0 0 0 0\n",
            " 0 0 0 0 0 0 0 0 0 0 0 0 0 0 0 0 1 0 0 0 0 1 0 0 0 0 1 0 0 0 0 0 0 0 0 0 0\n",
            " 0 0 0 0 0 0 0 0 0 0 0 0 0 0 0 0 1 0 0 0 1 0 1 0 0 1 1 0 0 0 0 0 0 0 0 0 0\n",
            " 0 0 0 0 0 0 0 0 0 0 0 0 0 0 0 0 0 0 0 0 0 0 0 0 0 0 0 0 0 0 0 0 0 0 0 0 0\n",
            " 1 0 0 0 0 0 0 0 0 0 0 0 0 0 0 0 0 0 0 0 0 0 1 0 0 0 0 0 0 0 0 0 0 0 0 0 0\n",
            " 0 0 0 0 0 0 0 1 0 0 0 0 0 0 0 0 0 0 0 0 0 0 0 0 0 0 0 0 1 0 0 0 0 0 0 0 0\n",
            " 0 0 0 0 0 0 0 0 0 0 0 0 0 0 0 0 0 0 0 0 0 0 0 0 0 0 0 1 0 0 0 1 0 0 0 0 1\n",
            " 0 0 0 0 0 0 0 0 1 0 0 1 0]\n",
            "accuracy:  0.6820809248554913\n",
            "actual value  [0]\n",
            "predicted value 0\n"
          ]
        },
        {
          "output_type": "stream",
          "name": "stderr",
          "text": [
            "/usr/local/lib/python3.7/dist-packages/sklearn/utils/validation.py:760: DataConversionWarning: A column-vector y was passed when a 1d array was expected. Please change the shape of y to (n_samples, ), for example using ravel().\n",
            "  y = column_or_1d(y, warn=True)\n"
          ]
        }
      ]
    }
  ]
}