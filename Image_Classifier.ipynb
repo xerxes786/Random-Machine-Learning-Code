{
  "nbformat": 4,
  "nbformat_minor": 0,
  "metadata": {
    "colab": {
      "name": "Image Classifier",
      "provenance": [],
      "collapsed_sections": [],
      "mount_file_id": "1EOhvbj-mYNbpq0-cXjmmI8fTgpdrQbyJ",
      "authorship_tag": "ABX9TyPsEsBi40d8gqiiWAzIPLH3",
      "include_colab_link": true
    },
    "kernelspec": {
      "name": "python3",
      "display_name": "Python 3"
    },
    "language_info": {
      "name": "python"
    }
  },
  "cells": [
    {
      "cell_type": "markdown",
      "metadata": {
        "id": "view-in-github",
        "colab_type": "text"
      },
      "source": [
        "<a href=\"https://colab.research.google.com/github/xerxes786/Random-Machine-Learning-Code/blob/main/Image_Classifier.ipynb\" target=\"_parent\"><img src=\"https://colab.research.google.com/assets/colab-badge.svg\" alt=\"Open In Colab\"/></a>"
      ]
    },
    {
      "cell_type": "code",
      "metadata": {
        "id": "zKPSb1rKG9B3"
      },
      "source": [
        "from google.colab import drive\n",
        "train = '/content/drive/MyDrive/Sports data set/train'\n",
        "test = '/content/drive/MyDrive/Sports data set/test'\n",
        "valid = '/content/drive/MyDrive/Sports data set/valid'\n"
      ],
      "execution_count": null,
      "outputs": []
    },
    {
      "cell_type": "code",
      "metadata": {
        "id": "yYC-LU2RAjP9",
        "colab": {
          "base_uri": "https://localhost:8080/"
        },
        "outputId": "0c24f421-531e-4766-cb7b-bc8792a35e25"
      },
      "source": [
        "drive.mount('/content/drive')"
      ],
      "execution_count": null,
      "outputs": [
        {
          "output_type": "stream",
          "name": "stdout",
          "text": [
            "Drive already mounted at /content/drive; to attempt to forcibly remount, call drive.mount(\"/content/drive\", force_remount=True).\n"
          ]
        }
      ]
    },
    {
      "cell_type": "code",
      "metadata": {
        "id": "PQy89tymAybo"
      },
      "source": [
        "import glob\n",
        "filepaths_train = list(glob.glob(train+'/**/*.jpg'))\n",
        "filepaths_test = list(glob.glob(test+'/**/*.jpg'))"
      ],
      "execution_count": null,
      "outputs": []
    },
    {
      "cell_type": "code",
      "metadata": {
        "id": "KerT5uaTEe-u"
      },
      "source": [
        "import pandas as pd\n",
        "import os\n",
        "def proc_img(filepath):\n",
        " \n",
        "    labels = list(map(lambda x: os.path.split(os.path.split(x)[0])[1], filepath))\n",
        "\n",
        "    filepath = pd.Series(filepath, name='Filepath').astype(str)\n",
        "    labels = pd.Series(labels, name='Label')\n",
        "\n",
        "    df = pd.concat([filepath, labels], axis=1)\n",
        "    df = df.sample(frac=1).reset_index(drop = True)\n",
        "  \n",
        "    return df\n",
        "train_df = proc_img(filepaths_train)\n",
        "test_df = proc_img(filepaths_test)"
      ],
      "execution_count": null,
      "outputs": []
    },
    {
      "cell_type": "code",
      "metadata": {
        "colab": {
          "base_uri": "https://localhost:8080/"
        },
        "id": "sb9a3JfzEs-l",
        "outputId": "4132dbad-cdaf-4fe6-c44f-1e96269e28fd"
      },
      "source": [
        "print(f'Number of training pictures: {train_df.shape[0]}')\n",
        "print(f'Number of test pictures: {test_df.shape[0]}')"
      ],
      "execution_count": null,
      "outputs": [
        {
          "output_type": "stream",
          "name": "stdout",
          "text": [
            "Number of training pictures: 10428\n",
            "Number of test pictures: 365\n"
          ]
        }
      ]
    },
    {
      "cell_type": "code",
      "metadata": {
        "id": "pql1kqQPPL8S"
      },
      "source": [
        "from PIL import ImageFile\n",
        "ImageFile.LOAD_TRUNCATED_IMAGES = True"
      ],
      "execution_count": null,
      "outputs": []
    },
    {
      "cell_type": "code",
      "metadata": {
        "id": "_66AIg4YPh5I"
      },
      "source": [
        "from keras.preprocessing.image import ImageDataGenerator\n",
        "import tensorflow as tf\n",
        "train_generator = ImageDataGenerator(\n",
        "    preprocessing_function=tf.keras.applications.mobilenet_v2.preprocess_input,\n",
        "    validation_split=0.2\n",
        ")\n",
        "test_generator = tf.keras.preprocessing.image.ImageDataGenerator(\n",
        "    preprocessing_function=tf.keras.applications.mobilenet_v2.preprocess_input\n",
        ")"
      ],
      "execution_count": null,
      "outputs": []
    },
    {
      "cell_type": "code",
      "metadata": {
        "colab": {
          "base_uri": "https://localhost:8080/"
        },
        "id": "f_pRKRp2SXGn",
        "outputId": "a1a15859-e23a-4bf0-ef6a-515efde823a9"
      },
      "source": [
        "train_images = train_generator.flow_from_dataframe(\n",
        "    dataframe=train_df,\n",
        "    x_col='Filepath',\n",
        "    y_col='Label',\n",
        "    target_size=(224, 224),\n",
        "    color_mode='rgb',\n",
        "    class_mode='categorical',\n",
        "    batch_size=32,\n",
        "    shuffle=True,\n",
        "    seed=0,\n",
        "    subset='training',\n",
        "    rotation_range=30,\n",
        "    zoom_range=0.15,\n",
        "    width_shift_range=0.2,\n",
        "    height_shift_range=0.2,\n",
        "    shear_range=0.15,\n",
        "    horizontal_flip=True,\n",
        "    fill_mode=\"nearest\"\n",
        ")\n",
        "val_images = train_generator.flow_from_dataframe(\n",
        "    dataframe=train_df,\n",
        "    x_col='Filepath',\n",
        "    y_col='Label',\n",
        "    target_size=(224, 224),\n",
        "    color_mode='rgb',\n",
        "    class_mode='categorical',\n",
        "    batch_size=32,\n",
        "    shuffle=True,\n",
        "    seed=0,\n",
        "    subset='validation',\n",
        "    rotation_range=30,\n",
        "    zoom_range=0.15,\n",
        "    width_shift_range=0.2,\n",
        "    height_shift_range=0.2,\n",
        "    shear_range=0.15,\n",
        "    horizontal_flip=True,\n",
        "    fill_mode=\"nearest\"\n",
        ")\n",
        "test_images = test_generator.flow_from_dataframe(\n",
        "    dataframe=test_df,\n",
        "    x_col='Filepath',\n",
        "    y_col='Label',\n",
        "    target_size=(224, 224),\n",
        "    color_mode='rgb',\n",
        "    class_mode='categorical',\n",
        "    batch_size=32,\n",
        "    shuffle=False\n",
        ")"
      ],
      "execution_count": null,
      "outputs": [
        {
          "output_type": "stream",
          "name": "stdout",
          "text": [
            "Found 8343 validated image filenames belonging to 73 classes.\n",
            "Found 2085 validated image filenames belonging to 73 classes.\n",
            "Found 365 validated image filenames belonging to 73 classes.\n"
          ]
        }
      ]
    },
    {
      "cell_type": "code",
      "metadata": {
        "id": "YKLJ00xIWO3o"
      },
      "source": [
        "pretrained_model = tf.keras.applications.MobileNetV2(\n",
        "    input_shape=(224, 224, 3),\n",
        "    include_top=False,\n",
        "    weights='imagenet',\n",
        "    pooling='avg'\n",
        ")\n",
        "\n",
        "pretrained_model.trainable = False\n",
        "inputs = pretrained_model.input\n",
        "\n",
        "x = tf.keras.layers.Dense(128, activation='relu')(pretrained_model.output)\n",
        "x = tf.keras.layers.Dense(128, activation='relu')(x)\n",
        "\n",
        "outputs = tf.keras.layers.Dense(73, activation='softmax')(x)\n",
        "\n",
        "model = tf.keras.Model(inputs=inputs, outputs=outputs)\n",
        "model.compile(\n",
        "    optimizer='adam',\n",
        "    loss='categorical_crossentropy',\n",
        "    metrics=['accuracy']\n",
        ")"
      ],
      "execution_count": null,
      "outputs": []
    },
    {
      "cell_type": "code",
      "metadata": {
        "id": "BZG_mxtZUuue"
      },
      "source": [
        "ACCURACY_THRESHOLD = 1\n",
        "from keras.callbacks import Callback\n",
        "class myCallback(Callback): \n",
        "    def on_epoch_end(self, epoch, logs={}): \n",
        "        if(logs.get('accuracy') > ACCURACY_THRESHOLD):   \n",
        "            print(\"\\nReached %2.2f%% accuracy, so stopping training!!\" %(ACCURACY_THRESHOLD*100))   \n",
        "            self.model.stop_training = True"
      ],
      "execution_count": null,
      "outputs": []
    },
    {
      "cell_type": "code",
      "metadata": {
        "colab": {
          "base_uri": "https://localhost:8080/"
        },
        "id": "mN-QuK5TVlSb",
        "outputId": "7eb54b2f-a0c6-481f-c02b-d4d4ba558e2e"
      },
      "source": [
        "callbacks = myCallback()\n",
        "history = model.fit(\n",
        "    train_images,\n",
        "    validation_data=val_images,\n",
        "    epochs=5,\n",
        "    callbacks=[callbacks]\n",
        ")"
      ],
      "execution_count": null,
      "outputs": [
        {
          "output_type": "stream",
          "name": "stdout",
          "text": [
            "Epoch 1/5\n",
            "261/261 [==============================] - 345s 1s/step - loss: 1.7169 - accuracy: 0.5708 - val_loss: 0.6710 - val_accuracy: 0.8230\n",
            "Epoch 2/5\n",
            "261/261 [==============================] - 323s 1s/step - loss: 0.4898 - accuracy: 0.8550 - val_loss: 0.5785 - val_accuracy: 0.8312\n",
            "Epoch 3/5\n",
            "261/261 [==============================] - 319s 1s/step - loss: 0.2685 - accuracy: 0.9215 - val_loss: 0.4952 - val_accuracy: 0.8547\n",
            "Epoch 4/5\n",
            "261/261 [==============================] - 333s 1s/step - loss: 0.1565 - accuracy: 0.9582 - val_loss: 0.5089 - val_accuracy: 0.8494\n",
            "Epoch 5/5\n",
            "261/261 [==============================] - 312s 1s/step - loss: 0.1018 - accuracy: 0.9743 - val_loss: 0.4970 - val_accuracy: 0.8643\n"
          ]
        }
      ]
    },
    {
      "cell_type": "code",
      "metadata": {
        "id": "ryx8K0WhWMnE",
        "colab": {
          "base_uri": "https://localhost:8080/"
        },
        "outputId": "7a5eb12b-93fb-48af-f053-f93be8a91b09"
      },
      "source": [
        "results = model.evaluate(test_images, verbose=0)\n",
        "\n",
        "print(\"    Test Loss: {:.5f}\".format(results[0]))\n",
        "print(\"Test Accuracy: {:.2f}%\".format(results[1] * 100))"
      ],
      "execution_count": null,
      "outputs": [
        {
          "output_type": "stream",
          "name": "stdout",
          "text": [
            "    Test Loss: 0.18945\n",
            "Test Accuracy: 94.25%\n"
          ]
        }
      ]
    }
  ]
}